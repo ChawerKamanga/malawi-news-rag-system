{
 "cells": [
  {
   "cell_type": "markdown",
   "id": "5899f44c",
   "metadata": {},
   "source": [
    "# Malawi News Chat Interface: An Intelligent RAG System for Personalized News Digests\n",
    "\n",
    "## Introduction\n",
    "This project aims to develop an intelligent chat interface that provides users with news updates from various Malawian news websites. Leveraging the power of BeautifulSoup for web scraping and AI for chat interactions, this system will allow users to stay informed about the latest news in an interactive and user-friendly manner."
   ]
  },
  {
   "cell_type": "markdown",
   "id": "05bf17e4",
   "metadata": {},
   "source": [
    "## Project Steps\n",
    "\n",
    "### Step 1: Web Scraping Using BeautifulSoup\n",
    "Objective: Fetch news content from prominent Malawian news websites (e.g., Times).\n",
    "Method: Utilize BeautifulSoup in Python to scrape news titles and detailed articles.\n",
    "Output: Raw news data including titles and full article contents.\n",
    "    \n",
    "### Step 2: Data Storage\n",
    "Objective: Store the scraped news data for easy access and processing.\n",
    "Method: Save all news titles and corresponding detailed articles into a .txt file.\n",
    "Output: A consolidated text file containing all relevant news information.\n",
    "    \n",
    "### Step 3: Building the AI Data Source\n",
    "Objective: Prepare the scraped news data for AI processing.\n",
    "Method: Use the stored .txt file as the data source for feeding into the AI model.\n",
    "Preparation: Format and clean the data as necessary for optimal AI processing.\n",
    "Output: A cleaned and structured dataset ready for integration with the AI model.\n",
    "\n",
    "### Step 4: Chat Interface Integration\n",
    "Objective: Develop a chat interface for users to interact with the AI.\n",
    "Method: Connect the prepared AI model with a user-friendly chat interface.\n",
    "Features: Enable users to query news, get summaries, and ask follow-up questions.\n",
    "Output: A fully functional chat interface that delivers personalized news content."
   ]
  },
  {
   "cell_type": "markdown",
   "id": "45e41b7a",
   "metadata": {},
   "source": [
    "### Step 1: Get the data from Malawi News Websites\n",
    "- Start with a news any news website from Malawi"
   ]
  },
  {
   "cell_type": "code",
   "execution_count": 4,
   "id": "d77e1e80",
   "metadata": {},
   "outputs": [],
   "source": [
    "import requests\n",
    "from bs4 import BeautifulSoup"
   ]
  },
  {
   "cell_type": "code",
   "execution_count": 16,
   "id": "fbd25bf1",
   "metadata": {},
   "outputs": [],
   "source": [
    "def extract_titles(url):\n",
    "    response = requests.get(url)\n",
    "\n",
    "    if response.status_code == 200:\n",
    "        soup = BeautifulSoup(response.content, 'html.parser')\n",
    "\n",
    "        titles = [a_tag.get_text(strip=True) for a_tag in soup.find_all('a', class_='p-url')]\n",
    "        return titles\n",
    "    else:\n",
    "        return f\"Failed to retrieve data: Status code {response.status_code}\""
   ]
  },
  {
   "cell_type": "code",
   "execution_count": 17,
   "id": "c58e6f16",
   "metadata": {},
   "outputs": [],
   "source": [
    "def extract_links(url):\n",
    "    response = requests.get(url)\n",
    "\n",
    "    if response.status_code == 200:\n",
    "        soup = BeautifulSoup(response.content, 'html.parser')\n",
    "\n",
    "        links = [a_tag['href'] for a_tag in soup.find_all('a', class_='p-url')]\n",
    "        return links\n",
    "    else:\n",
    "        return f\"Failed to retrieve data: Status code {response.status_code}\""
   ]
  },
  {
   "cell_type": "code",
   "execution_count": 18,
   "id": "28e865c1",
   "metadata": {},
   "outputs": [],
   "source": [
    "def extract_paragraphs_from_url(url):\n",
    "    response = requests.get(url)\n",
    "\n",
    "    if response.status_code == 200:\n",
    "\n",
    "        soup = BeautifulSoup(response.content, 'html.parser')\n",
    "\n",
    "        div_content = soup.find('div', class_=\"entry-content rbct clearfix is-highlight-shares\")\n",
    "        paragraphs = [p.get_text(strip=True) for p in div_content.find_all('p')] if div_content else []\n",
    "\n",
    "        full_text = ' '.join(paragraphs)\n",
    "        return full_text\n",
    "    else:\n",
    "        return f\"Failed to retrieve data: Status code {response.status_code}\""
   ]
  },
  {
   "cell_type": "code",
   "execution_count": 19,
   "id": "6daddbec",
   "metadata": {},
   "outputs": [],
   "source": [
    "url = ''\n",
    "links = extract_links(url)"
   ]
  },
  {
   "cell_type": "code",
   "execution_count": 20,
   "id": "f1caa4a8",
   "metadata": {},
   "outputs": [],
   "source": [
    "titles = extract_titles(url)"
   ]
  },
  {
   "cell_type": "code",
   "execution_count": 23,
   "id": "94848653",
   "metadata": {},
   "outputs": [],
   "source": [
    "with open('titles.txt', 'w') as file:\n",
    "    for i, title in enumerate(titles, 1):\n",
    "        file.write(f\"{title}\\n\")"
   ]
  },
  {
   "cell_type": "code",
   "execution_count": 24,
   "id": "13b18694",
   "metadata": {},
   "outputs": [],
   "source": [
    "with open('links.txt', 'w') as file:\n",
    "    for i, link in enumerate(links, 1):\n",
    "        file.write(f\"{link}\\n\")"
   ]
  },
  {
   "cell_type": "code",
   "execution_count": 21,
   "id": "cf0d10b6",
   "metadata": {},
   "outputs": [],
   "source": [
    "def write_titles_with_content(titles_file, links_file, output_file):\n",
    "    with open(titles_file, 'r') as f:\n",
    "        titles = f.readlines()\n",
    "    with open(links_file, 'r') as f:\n",
    "        links = f.readlines()\n",
    "\n",
    "    if len(titles) != len(links):\n",
    "        return \"The number of titles and links does not match.\"\n",
    "\n",
    "    with open(output_file, 'w') as output:\n",
    "        for title, link in zip(titles, links):\n",
    "            output.write(title.strip() + '\\n')\n",
    "\n",
    "            extracted_text = extract_paragraphs_from_url(link.strip())\n",
    "            output.write(extracted_text + '\\n\\n')\n",
    "\n",
    "    return \"Content written to \" + output_file"
   ]
  },
  {
   "cell_type": "code",
   "execution_count": 25,
   "id": "2a3d6b9e",
   "metadata": {},
   "outputs": [
    {
     "name": "stdout",
     "output_type": "stream",
     "text": [
      "Content written to output.txt\n"
     ]
    }
   ],
   "source": [
    "output = write_titles_with_content('titles.txt', 'links.txt', 'output.txt')\n",
    "print(output)"
   ]
  },
  {
   "cell_type": "markdown",
   "id": "9c163c00",
   "metadata": {},
   "source": [
    "## Lets Start Building the RAG System"
   ]
  },
  {
   "cell_type": "code",
   "execution_count": 1,
   "id": "bfbfa56c",
   "metadata": {},
   "outputs": [
    {
     "data": {
      "text/plain": [
       "True"
      ]
     },
     "execution_count": 1,
     "metadata": {},
     "output_type": "execute_result"
    }
   ],
   "source": [
    "import dotenv\n",
    "from langchain.document_loaders import TextLoader\n",
    "from langchain.text_splitter import RecursiveCharacterTextSplitter\n",
    "from langchain_community.vectorstores import Chroma\n",
    "from langchain_openai import OpenAIEmbeddings\n",
    "from langchain_openai import ChatOpenAI\n",
    "from langchain import hub\n",
    "from langchain_core.output_parsers import StrOutputParser\n",
    "from langchain_core.runnables import RunnablePassthrough\n",
    "dotenv.load_dotenv()"
   ]
  },
  {
   "cell_type": "markdown",
   "id": "c2b90815",
   "metadata": {},
   "source": [
    "### Load the text data"
   ]
  },
  {
   "cell_type": "code",
   "execution_count": 10,
   "id": "23734d61",
   "metadata": {},
   "outputs": [],
   "source": [
    "# Load text data from a file using TextLoader\n",
    "loader = TextLoader(\"./output.txt\")\n",
    "docs = loader.load()"
   ]
  },
  {
   "cell_type": "code",
   "execution_count": 11,
   "id": "189eda59",
   "metadata": {},
   "outputs": [
    {
     "data": {
      "text/plain": [
       "228910"
      ]
     },
     "execution_count": 11,
     "metadata": {},
     "output_type": "execute_result"
    }
   ],
   "source": [
    "len(docs[0].page_content)"
   ]
  },
  {
   "cell_type": "code",
   "execution_count": 13,
   "id": "d9f7aaf0",
   "metadata": {},
   "outputs": [
    {
     "name": "stdout",
     "output_type": "stream",
     "text": [
      "era said the nation has put on their shoulders a crucial responsibility of upholding justice, fairness, and accountability within NIS operations, arguing that this is not an easy task by any stretch of the imagination. “The main function of the service then was to protect the political hegemony of the colonial government which was maintained in the one party state. Although intelligence was formally delinked from the Malawi Police Service in 2000, where it was called the Security and Intelligenc\n"
     ]
    }
   ],
   "source": [
    "print(docs[0].page_content[500:1000])"
   ]
  },
  {
   "cell_type": "markdown",
   "id": "1e2f61bb",
   "metadata": {},
   "source": [
    "### Index Spliting"
   ]
  },
  {
   "cell_type": "code",
   "execution_count": 14,
   "id": "500f6bb4",
   "metadata": {},
   "outputs": [],
   "source": [
    "text_splitter = RecursiveCharacterTextSplitter(\n",
    "    chunk_size=1000, chunk_overlap=200, add_start_index=True\n",
    ")\n",
    "all_splits = text_splitter.split_documents(docs)"
   ]
  },
  {
   "cell_type": "code",
   "execution_count": 17,
   "id": "2212d2bf",
   "metadata": {},
   "outputs": [
    {
     "data": {
      "text/plain": [
       "54"
      ]
     },
     "execution_count": 17,
     "metadata": {},
     "output_type": "execute_result"
    }
   ],
   "source": [
    "len(all_splits[0].page_content)"
   ]
  },
  {
   "cell_type": "code",
   "execution_count": 15,
   "id": "81270508",
   "metadata": {},
   "outputs": [
    {
     "data": {
      "text/plain": [
       "390"
      ]
     },
     "execution_count": 15,
     "metadata": {},
     "output_type": "execute_result"
    }
   ],
   "source": [
    "len(all_splits)"
   ]
  },
  {
   "cell_type": "code",
   "execution_count": 16,
   "id": "fa978b82",
   "metadata": {},
   "outputs": [
    {
     "data": {
      "text/plain": [
       "{'source': './output.txt', 'start_index': 5251}"
      ]
     },
     "execution_count": 16,
     "metadata": {},
     "output_type": "execute_result"
    }
   ],
   "source": [
    "all_splits[10].metadata"
   ]
  },
  {
   "cell_type": "markdown",
   "id": "7fb5732d",
   "metadata": {},
   "source": [
    "### Index Store"
   ]
  },
  {
   "cell_type": "code",
   "execution_count": 18,
   "id": "6cb30163",
   "metadata": {},
   "outputs": [],
   "source": [
    "vectorstore = Chroma.from_documents(documents=all_splits, embedding=OpenAIEmbeddings())"
   ]
  },
  {
   "cell_type": "code",
   "execution_count": 19,
   "id": "dbb9c8bc",
   "metadata": {},
   "outputs": [],
   "source": [
    "retriever = vectorstore.as_retriever(search_type=\"similarity\", search_kwargs={\"k\": 6})"
   ]
  },
  {
   "cell_type": "code",
   "execution_count": 20,
   "id": "cd7cfcb9",
   "metadata": {},
   "outputs": [],
   "source": [
    "retrieved_docs = retriever.invoke(\"What does the ministry of Tourism need?\")"
   ]
  },
  {
   "cell_type": "code",
   "execution_count": 21,
   "id": "21b1c09f",
   "metadata": {},
   "outputs": [
    {
     "data": {
      "text/plain": [
       "6"
      ]
     },
     "execution_count": 21,
     "metadata": {},
     "output_type": "execute_result"
    }
   ],
   "source": [
    "len(retrieved_docs)"
   ]
  },
  {
   "cell_type": "code",
   "execution_count": 22,
   "id": "6026d891",
   "metadata": {},
   "outputs": [
    {
     "name": "stdout",
     "output_type": "stream",
     "text": [
      "By Cathy Maulidi: The Ministry of Tourism needs about K1 billion to market the country, Director of Administration in the Ministry of Tourism Esther Nyirenda told Parliament Tuesday. Nyirenda told the Public Accounts Committee of Parliament that apart from marketing the country as a tourism destination, the ministry is advocating domestic tourism. “We need to market our country to both local and international tourists and doing that, needs a lot of resources. “We have our officers attached to embassies who help us market our country and we also reach out to people who can do marketing for us. We advertise and when they apply and meet what we want, we sign contracts with them so that they should be marketing Malawi while in their countries,” Nyirenda said. She cited high rates in hospitality units as one of the major hindrances to growing the tourism sector. According to Nyirenda, the ministry will launch its tourism marketing strategy by September 2023. But Public Accounts Committee\n"
     ]
    }
   ],
   "source": [
    "print(retrieved_docs[0].page_content)"
   ]
  },
  {
   "cell_type": "markdown",
   "id": "534df2f4",
   "metadata": {},
   "source": [
    "### Retrieval and Generation: Generate"
   ]
  },
  {
   "cell_type": "code",
   "execution_count": 23,
   "id": "b0545331",
   "metadata": {},
   "outputs": [],
   "source": [
    "llm = ChatOpenAI(model_name=\"gpt-3.5-turbo\", temperature=0)"
   ]
  },
  {
   "cell_type": "code",
   "execution_count": 24,
   "id": "21695d68",
   "metadata": {},
   "outputs": [],
   "source": [
    "prompt = hub.pull(\"rlm/rag-prompt\")"
   ]
  },
  {
   "cell_type": "code",
   "execution_count": 25,
   "id": "d27a4fd5",
   "metadata": {},
   "outputs": [
    {
     "data": {
      "text/plain": [
       "[HumanMessage(content=\"You are an assistant for question-answering tasks. Use the following pieces of retrieved context to answer the question. If you don't know the answer, just say that you don't know. Use three sentences maximum and keep the answer concise.\\nQuestion: filler question \\nContext: filler context \\nAnswer:\")]"
      ]
     },
     "execution_count": 25,
     "metadata": {},
     "output_type": "execute_result"
    }
   ],
   "source": [
    "example_messages = prompt.invoke(\n",
    "    {\"context\": \"filler context\", \"question\": \"filler question\"}\n",
    ").to_messages()\n",
    "example_messages"
   ]
  },
  {
   "cell_type": "code",
   "execution_count": 26,
   "id": "391df968",
   "metadata": {},
   "outputs": [
    {
     "name": "stdout",
     "output_type": "stream",
     "text": [
      "You are an assistant for question-answering tasks. Use the following pieces of retrieved context to answer the question. If you don't know the answer, just say that you don't know. Use three sentences maximum and keep the answer concise.\n",
      "Question: filler question \n",
      "Context: filler context \n",
      "Answer:\n"
     ]
    }
   ],
   "source": [
    "print(example_messages[0].content)"
   ]
  },
  {
   "cell_type": "code",
   "execution_count": 27,
   "id": "56daaf24",
   "metadata": {},
   "outputs": [],
   "source": [
    "def format_docs(docs):\n",
    "    return \"\\n\\n\".join(doc.page_content for doc in docs)\n",
    "\n",
    "rag_chain = (\n",
    "    {\"context\": retriever | format_docs, \"question\": RunnablePassthrough()}\n",
    "    | prompt\n",
    "    | llm\n",
    "    | StrOutputParser()\n",
    ")"
   ]
  },
  {
   "cell_type": "code",
   "execution_count": 30,
   "id": "47488794",
   "metadata": {},
   "outputs": [
    {
     "name": "stdout",
     "output_type": "stream",
     "text": [
      "The Tobacco Commission has started a crop assessment to determine the potential tobacco production for the year. The assessment will run from January 15 to February 2, with authorities visiting tobacco growing areas for data collection. Farmers have been licensed with quotas worth 248 million kilograms of all types of tobacco."
     ]
    }
   ],
   "source": [
    "for chunk in rag_chain.stream(\"Whats up with Tobbacco?\"):\n",
    "    print(chunk, end=\"\", flush=True)"
   ]
  }
 ],
 "metadata": {
  "kernelspec": {
   "display_name": "Python 3 (ipykernel)",
   "language": "python",
   "name": "python3"
  },
  "language_info": {
   "codemirror_mode": {
    "name": "ipython",
    "version": 3
   },
   "file_extension": ".py",
   "mimetype": "text/x-python",
   "name": "python",
   "nbconvert_exporter": "python",
   "pygments_lexer": "ipython3",
   "version": "3.9.12"
  }
 },
 "nbformat": 4,
 "nbformat_minor": 5
}
